{
 "cells": [
  {
   "cell_type": "code",
   "execution_count": 1,
   "metadata": {},
   "outputs": [
    {
     "name": "stdout",
     "output_type": "stream",
     "text": [
      "[vimeo] 262852998: Downloading webpage\n",
      "[vimeo] 262852998: Extracting information\n",
      "[vimeo] 262852998: Downloading JSON metadata\n",
      "[vimeo] 262852998: Downloading akfire_interconnect_quic m3u8 information\n",
      "[vimeo] 262852998: Downloading fastly_skyfire m3u8 information\n",
      "[vimeo] 262852998: Downloading akfire_interconnect_quic MPD information\n",
      "[vimeo] 262852998: Downloading akfire_interconnect_quic MPD information\n",
      "[vimeo] 262852998: Downloading fastly_skyfire MPD information\n",
      "[vimeo] 262852998: Downloading fastly_skyfire MPD information\n",
      "[download] 262852998.mp4 has already been downloaded and merged\n",
      "{'abr': None,\n",
      " 'acodec': 'mp4a.40.2',\n",
      " 'display_id': '262852998',\n",
      " 'duration': 157,\n",
      " 'ext': 'mp4',\n",
      " 'extractor': 'vimeo',\n",
      " 'extractor_key': 'Vimeo',\n",
      " 'format': 'dash-fastly_skyfire_sep-video-991879863 - 640x360 (DASH '\n",
      "           'video)+dash-fastly_skyfire_sep-audio-991879876 - audio only (DASH '\n",
      "           'audio)',\n",
      " 'format_id': 'dash-fastly_skyfire_sep-video-991879863+dash-fastly_skyfire_sep-audio-991879876',\n",
      " 'fps': None,\n",
      " 'height': 360,\n",
      " 'id': '262852998',\n",
      " 'is_live': False,\n",
      " 'playlist': None,\n",
      " 'playlist_index': None,\n",
      " 'requested_subtitles': None,\n",
      " 'resolution': None,\n",
      " 'stretched_ratio': None,\n",
      " 'subtitles': {},\n",
      " 'thumbnail': 'https://i.vimeocdn.com/video/692233750_1280.jpg',\n",
      " 'thumbnails': [{'id': 'base',\n",
      "                 'url': 'https://i.vimeocdn.com/video/692233750',\n",
      "                 'width': None},\n",
      "                {'id': '640',\n",
      "                 'url': 'https://i.vimeocdn.com/video/692233750_640.jpg',\n",
      "                 'width': 640},\n",
      "                {'id': '960',\n",
      "                 'url': 'https://i.vimeocdn.com/video/692233750_960.jpg',\n",
      "                 'width': 960},\n",
      "                {'id': '1280',\n",
      "                 'url': 'https://i.vimeocdn.com/video/692233750_1280.jpg',\n",
      "                 'width': 1280}],\n",
      " 'title': 'A 21st Century Teaching Technique #1: Think, Pair, Share (English '\n",
      "          'Language)',\n",
      " 'uploader': 'Point B Design + Training',\n",
      " 'uploader_id': 'pointbmyanmar',\n",
      " 'uploader_url': 'https://vimeo.com/pointbmyanmar',\n",
      " 'vbr': None,\n",
      " 'vcodec': 'avc1.64001E',\n",
      " 'webpage_url': 'https://player.vimeo.com/video/262852998',\n",
      " 'webpage_url_basename': '262852998',\n",
      " 'width': 640}\n"
     ]
    }
   ],
   "source": [
    "import youtube_dl\n",
    "import pprint\n",
    "\n",
    "# test video\n",
    "video_url='https://player.vimeo.com/video/262852998'\n",
    "\n",
    "\n",
    "ydl_options = {\n",
    "    'outtmpl': '%(id)s.%(ext)s',  # use the video id for filename\n",
    "    'writethumbnail': False,\n",
    "    'no_warnings': True,\n",
    "    'continuedl': False,\n",
    "    'restrictfilenames':True,\n",
    "    'quiet': False,\n",
    "    'format': \"bestvideo[height<=480][ext=mp4]+bestaudio[ext=m4a]/best[height<=480][ext=mp4]\", # Note the format specification is important so we get mp4 and not taller than 480\n",
    "}\n",
    "\n",
    "\n",
    "\n",
    "with youtube_dl.YoutubeDL(ydl_options) as ydl:\n",
    "    try:\n",
    "        ydl.add_default_info_extractors()\n",
    "        vinfo = ydl.extract_info(video_url, download=True)\n",
    "    except (youtube_dl.utils.DownloadError,youtube_dl.utils.ContentTooShortError,youtube_dl.utils.ExtractorError) as e:\n",
    "        print('error_occured')\n",
    "\n",
    "\n",
    "pp = pprint.PrettyPrinter()\n",
    "del vinfo['formats']  # to keep from printing 100+ lines\n",
    "del vinfo['requested_formats']  # to keep from printing 100+ lines\n",
    "pp.pprint(vinfo)"
   ]
  },
  {
   "cell_type": "code",
   "execution_count": 3,
   "metadata": {},
   "outputs": [],
   "source": []
  },
  {
   "cell_type": "code",
   "execution_count": 5,
   "metadata": {},
   "outputs": [
    {
     "name": "stdout",
     "output_type": "stream",
     "text": [
      " 12M\t262852998.mp4\r\n"
     ]
    }
   ],
   "source": [
    "# check file size not too large... 12MB = OK\n",
    "!du -sh 262852998.mp4"
   ]
  },
  {
   "cell_type": "code",
   "execution_count": 6,
   "metadata": {},
   "outputs": [],
   "source": [
    "!open 262852998.mp4"
   ]
  },
  {
   "cell_type": "code",
   "execution_count": null,
   "metadata": {},
   "outputs": [],
   "source": []
  },
  {
   "cell_type": "markdown",
   "metadata": {},
   "source": [
    "### Next step\n",
    "\n",
    "Add the video to the channel using the ricecooker class `VideoNode` and `VideoFile` specifying the filename ` 262852998.mp4` as the `path` "
   ]
  },
  {
   "cell_type": "code",
   "execution_count": null,
   "metadata": {},
   "outputs": [],
   "source": []
  }
 ],
 "metadata": {
  "kernelspec": {
   "display_name": "Python 3",
   "language": "python",
   "name": "python3"
  },
  "language_info": {
   "codemirror_mode": {
    "name": "ipython",
    "version": 3
   },
   "file_extension": ".py",
   "mimetype": "text/x-python",
   "name": "python",
   "nbconvert_exporter": "python",
   "pygments_lexer": "ipython3",
   "version": "3.7.3"
  }
 },
 "nbformat": 4,
 "nbformat_minor": 2
}
