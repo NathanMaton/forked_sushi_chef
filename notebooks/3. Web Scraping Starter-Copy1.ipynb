{
 "cells": [
  {
   "cell_type": "code",
   "execution_count": null,
   "metadata": {},
   "outputs": [],
   "source": []
  },
  {
   "cell_type": "code",
   "execution_count": 1,
   "metadata": {},
   "outputs": [],
   "source": [
    "from bs4 import BeautifulSoup\n",
    "import requests\n",
    "import html\n"
   ]
  },
  {
   "cell_type": "code",
   "execution_count": 2,
   "metadata": {},
   "outputs": [],
   "source": [
    "videos_url_en = 'http://www.pointb.is/21cs-videos'\n",
    "videos_url_my = 'http://www.pointb.is/21cs-videos-mm'\n",
    "        "
   ]
  },
  {
   "cell_type": "code",
   "execution_count": null,
   "metadata": {},
   "outputs": [],
   "source": []
  },
  {
   "cell_type": "markdown",
   "metadata": {},
   "source": [
    "### English"
   ]
  },
  {
   "cell_type": "code",
   "execution_count": 3,
   "metadata": {},
   "outputs": [],
   "source": [
    "response = requests.get(videos_url_en)\n",
    "page = BeautifulSoup(response.text, 'html5lib')\n"
   ]
  },
  {
   "cell_type": "code",
   "execution_count": 4,
   "metadata": {},
   "outputs": [
    {
     "data": {
      "text/plain": [
       "6"
      ]
     },
     "execution_count": 4,
     "metadata": {},
     "output_type": "execute_result"
    }
   ],
   "source": [
    "content_divs = page.find_all('div', class_='content-inner')\n",
    "len(content_divs)"
   ]
  },
  {
   "cell_type": "code",
   "execution_count": 5,
   "metadata": {},
   "outputs": [
    {
     "name": "stdout",
     "output_type": "stream",
     "text": [
      "https://player.vimeo.com/video/262852998?app_id=122963&wmode=opaque\n"
     ]
    }
   ],
   "source": []
  },
  {
   "cell_type": "markdown",
   "metadata": {},
   "source": [
    "## Find description"
   ]
  },
  {
   "cell_type": "code",
   "execution_count": null,
   "metadata": {},
   "outputs": [],
   "source": [
    "#get 1 video\n",
    "video_block = content_divs[0].find('div', class_='video-block')\n",
    "video_wrapper = video_block.find('div', class_='sqs-video-wrapper')\n",
    "data_html_raw = video_wrapper['data-html']\n",
    "data_html = html.unescape(data_html_raw)\n",
    "chunk = BeautifulSoup(data_html, 'html5lib')\n",
    "iframe = chunk.find('iframe')\n",
    "print(iframe['src'])"
   ]
  },
  {
   "cell_type": "code",
   "execution_count": 15,
   "metadata": {},
   "outputs": [],
   "source": [
    "description_area = content_divs[0].find_all('div', class_='sqs-block html-block sqs-block-html')\n",
    "description_dirty_content = description_area[1].find('div', class_='sqs-block-content')\n",
    "clean_description = description_dirty_content.get_text(\" \", strip=True)\n"
   ]
  },
  {
   "cell_type": "code",
   "execution_count": 9,
   "metadata": {},
   "outputs": [],
   "source": [
    "descripton_area = content_divs[0].find('div', class_='sqs-block-content')"
   ]
  },
  {
   "cell_type": "code",
   "execution_count": 10,
   "metadata": {},
   "outputs": [
    {
     "data": {
      "text/plain": [
       "<div class=\"sqs-block-content\"><div class=\"intrinsic\" style=\"max-width:100%\"><div class=\"embed-block-wrapper\" style=\"padding-bottom:56.25%;\"><div class=\"sqs-video-wrapper\" data-html='&lt;iframe src=\"https://player.vimeo.com/video/262852998?app_id=122963&amp;wmode=opaque\" width=\"640\" height=\"360\" frameborder=\"0\" title=\"A 21st Century Teaching Technique #1: Think, Pair, Share (English Language)\" webkitallowfullscreen=\"\" mozallowfullscreen=\"\" allowfullscreen=\"\"&gt;&lt;/iframe&gt;' data-provider-name=\"Vimeo\"></div></div></div></div>"
      ]
     },
     "execution_count": 10,
     "metadata": {},
     "output_type": "execute_result"
    }
   ],
   "source": [
    "descripton_area\n"
   ]
  },
  {
   "cell_type": "code",
   "execution_count": 23,
   "metadata": {},
   "outputs": [
    {
     "data": {
      "text/plain": [
       "\"This short tutorial video shows how to integrate Brainstorming into your classroom to activate creative thinking and collaborative learning skills with your students. Brainstorming is a technique designed to calm your critical (or convergent) thinking so that you can open up to creative (or divergent) thinking. The goal of brainstorming is to come up with lots of new ideas! In this video, we'll also share some rules and tips on how to get the most out of your brainstorming session.\""
      ]
     },
     "execution_count": 23,
     "metadata": {},
     "output_type": "execute_result"
    }
   ],
   "source": []
  },
  {
   "cell_type": "code",
   "execution_count": 16,
   "metadata": {},
   "outputs": [
    {
     "name": "stdout",
     "output_type": "stream",
     "text": [
      "https://player.vimeo.com/video/262852998?app_id=122963&wmode=opaque\n",
      "This short tutorial video shows how to use Think, Pair Share in your classroom to activate questioning skills and collaborative learning with your students. Think, Pair, Share involves posing a question to students, asking them to take a few minutes to think on their own, turn to a nearby student and discuss their thoughts, and finally, share with a larger group or the whole class.\n",
      "https://player.vimeo.com/video/263076119?app_id=122963&wmode=opaque\n",
      "This short tutorial video shows how to integrate a cooperative learning activity called Jigsaw into your classroom. As the name implies a “jigsaw puzzle” can only be completed by fitting different pieces together. Similarly, in the Jigsaw activity each piece of a learning task is essential for the completion and full understanding of the final learning of a topic or concept.\n",
      "https://player.vimeo.com/video/267658709?app_id=122963&wmode=opaque\n",
      "This short tutorial video shows how to integrate visual tools into your classroom to activate 21st century skills with your students. Visual thinking skills show us different ways to represent data or information that will help stimulate and support the different thinking skills within 21st century learning.In this video, we'll demonstrate how to use 3 different visual tools in your lesson.\n",
      "https://player.vimeo.com/video/263076752?app_id=122963&wmode=opaque\n",
      "This short tutorial video shows how to integrate a daily reviews into your classroom. Daily reviews help to engage students in a review of past learning and activities in order to reiterate learning experience, assess and further connect ideas. A daily review helps students to gain greater depth of knowledge of concepts of a previous lesson. In this video, we will show you how to integrate 3 different kinds of reviews into your lesson.\n",
      "https://player.vimeo.com/video/267660772?app_id=122963&wmode=opaque\n",
      "This short tutorial video shows how to integrate experiential learning into your classroom to activate 21st century skills with your students. In experiential learning, the teacher becomes a facilitator. First, helping the students to have an authentic or Structured Learning Experience (SLE) and then, helping them top unpack their experiences by reflecting on what they did, what they learned and how they can apply their learning to future experiences.\n",
      "https://player.vimeo.com/video/263076533?app_id=122963&wmode=opaque\n",
      "This short tutorial video shows how to integrate Brainstorming into your classroom to activate creative thinking and collaborative learning skills with your students. Brainstorming is a technique designed to calm your critical (or convergent) thinking so that you can open up to creative (or divergent) thinking. The goal of brainstorming is to come up with lots of new ideas! In this video, we'll also share some rules and tips on how to get the most out of your brainstorming session.\n"
     ]
    }
   ],
   "source": [
    "for content_div in content_divs:\n",
    "    video_block = content_div.find('div', class_='video-block')\n",
    "    video_wrapper = video_block.find('div', class_='sqs-video-wrapper')\n",
    "    data_html_raw = video_wrapper['data-html']\n",
    "    data_html = html.unescape(data_html_raw)\n",
    "    chunk = BeautifulSoup(data_html, 'html5lib')\n",
    "    iframe = chunk.find('iframe')\n",
    "    print(iframe['src'])\n",
    "    \n",
    "    description_area = content_div.find_all('div', class_='sqs-block html-block sqs-block-html')\n",
    "    description_dirty_content = description_area[1].find('div', class_='sqs-block-content')\n",
    "    clean_description = description_dirty_content.get_text(\" \", strip=True)\n",
    "    print(clean_description)\n"
   ]
  },
  {
   "cell_type": "code",
   "execution_count": null,
   "metadata": {},
   "outputs": [],
   "source": []
  },
  {
   "cell_type": "code",
   "execution_count": null,
   "metadata": {},
   "outputs": [],
   "source": [
    "\n",
    " "
   ]
  },
  {
   "cell_type": "markdown",
   "metadata": {},
   "source": [
    "### Burmese"
   ]
  },
  {
   "cell_type": "code",
   "execution_count": 6,
   "metadata": {},
   "outputs": [
    {
     "data": {
      "text/plain": [
       "6"
      ]
     },
     "execution_count": 6,
     "metadata": {},
     "output_type": "execute_result"
    }
   ],
   "source": [
    "response = requests.get(videos_url_my)\n",
    "page2 = BeautifulSoup(response.text, 'html5lib')\n",
    "content_divs2 = page2.find_all('div', class_='content-inner')\n",
    "len(content_divs2)\n"
   ]
  },
  {
   "cell_type": "code",
   "execution_count": 7,
   "metadata": {},
   "outputs": [
    {
     "name": "stdout",
     "output_type": "stream",
     "text": [
      "https://player.vimeo.com/video/262570817?app_id=122963&wmode=opaque\n",
      "https://player.vimeo.com/video/262755072?app_id=122963&wmode=opaque\n",
      "https://player.vimeo.com/video/262755467?app_id=122963&wmode=opaque\n",
      "https://player.vimeo.com/video/262755673?app_id=122963&wmode=opaque\n",
      "https://player.vimeo.com/video/267661918?app_id=122963&wmode=opaque\n",
      "https://player.vimeo.com/video/262572490?app_id=122963&wmode=opaque\n"
     ]
    }
   ],
   "source": [
    "for content_div in content_divs2:\n",
    "    video_block = content_div.find('div', class_='video-block')\n",
    "    video_wrapper = video_block.find('div', class_='sqs-video-wrapper')\n",
    "    data_html_raw = video_wrapper['data-html']\n",
    "    import html\n",
    "    data_html = html.unescape(data_html_raw)\n",
    "    chunk = BeautifulSoup(data_html, 'html5lib')\n",
    "    iframe = chunk.find('iframe')\n",
    "    print(iframe['src'])"
   ]
  },
  {
   "cell_type": "code",
   "execution_count": null,
   "metadata": {},
   "outputs": [],
   "source": []
  }
 ],
 "metadata": {
  "kernelspec": {
   "display_name": "Python 3",
   "language": "python",
   "name": "python3"
  },
  "language_info": {
   "codemirror_mode": {
    "name": "ipython",
    "version": 3
   },
   "file_extension": ".py",
   "mimetype": "text/x-python",
   "name": "python",
   "nbconvert_exporter": "python",
   "pygments_lexer": "ipython3",
   "version": "3.7.7"
  }
 },
 "nbformat": 4,
 "nbformat_minor": 2
}
