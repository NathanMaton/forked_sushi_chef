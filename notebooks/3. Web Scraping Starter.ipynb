{
 "cells": [
  {
   "cell_type": "code",
   "execution_count": null,
   "metadata": {},
   "outputs": [],
   "source": []
  },
  {
   "cell_type": "code",
   "execution_count": 1,
   "metadata": {},
   "outputs": [],
   "source": [
    "from bs4 import BeautifulSoup\n",
    "import requests"
   ]
  },
  {
   "cell_type": "code",
   "execution_count": 2,
   "metadata": {},
   "outputs": [],
   "source": [
    "videos_url_en = 'http://www.pointb.is/21cs-videos'\n",
    "videos_url_my = 'http://www.pointb.is/21cs-videos-mm'\n",
    "        "
   ]
  },
  {
   "cell_type": "code",
   "execution_count": null,
   "metadata": {},
   "outputs": [],
   "source": []
  },
  {
   "cell_type": "markdown",
   "metadata": {},
   "source": [
    "### English"
   ]
  },
  {
   "cell_type": "code",
   "execution_count": 3,
   "metadata": {},
   "outputs": [],
   "source": [
    "response = requests.get(videos_url_en)\n",
    "page = BeautifulSoup(response.text, 'html5lib')\n"
   ]
  },
  {
   "cell_type": "code",
   "execution_count": 4,
   "metadata": {},
   "outputs": [
    {
     "data": {
      "text/plain": [
       "6"
      ]
     },
     "execution_count": 4,
     "metadata": {},
     "output_type": "execute_result"
    }
   ],
   "source": [
    "content_divs = page.find_all('div', class_='content-inner')\n",
    "len(content_divs)"
   ]
  },
  {
   "cell_type": "code",
   "execution_count": 5,
   "metadata": {},
   "outputs": [
    {
     "name": "stdout",
     "output_type": "stream",
     "text": [
      "https://player.vimeo.com/video/262852998?app_id=122963&wmode=opaque\n",
      "https://player.vimeo.com/video/263076119?app_id=122963&wmode=opaque\n",
      "https://player.vimeo.com/video/267658709?app_id=122963&wmode=opaque\n",
      "https://player.vimeo.com/video/263076752?app_id=122963&wmode=opaque\n",
      "https://player.vimeo.com/video/267660772?app_id=122963&wmode=opaque\n",
      "https://player.vimeo.com/video/263076533?app_id=122963&wmode=opaque\n"
     ]
    }
   ],
   "source": [
    "for content_div in content_divs:\n",
    "    video_block = content_div.find('div', class_='video-block')\n",
    "    video_wrapper = video_block.find('div', class_='sqs-video-wrapper')\n",
    "    data_html_raw = video_wrapper['data-html']\n",
    "    import html\n",
    "    data_html = html.unescape(data_html_raw)\n",
    "    chunk = BeautifulSoup(data_html, 'html5lib')\n",
    "    iframe = chunk.find('iframe')\n",
    "    print(iframe['src'])"
   ]
  },
  {
   "cell_type": "code",
   "execution_count": null,
   "metadata": {},
   "outputs": [],
   "source": []
  },
  {
   "cell_type": "code",
   "execution_count": null,
   "metadata": {},
   "outputs": [],
   "source": [
    "\n",
    " "
   ]
  },
  {
   "cell_type": "markdown",
   "metadata": {},
   "source": [
    "### Burmese"
   ]
  },
  {
   "cell_type": "code",
   "execution_count": 6,
   "metadata": {},
   "outputs": [
    {
     "data": {
      "text/plain": [
       "6"
      ]
     },
     "execution_count": 6,
     "metadata": {},
     "output_type": "execute_result"
    }
   ],
   "source": [
    "response = requests.get(videos_url_my)\n",
    "page2 = BeautifulSoup(response.text, 'html5lib')\n",
    "content_divs2 = page2.find_all('div', class_='content-inner')\n",
    "len(content_divs2)\n"
   ]
  },
  {
   "cell_type": "code",
   "execution_count": 7,
   "metadata": {},
   "outputs": [
    {
     "name": "stdout",
     "output_type": "stream",
     "text": [
      "https://player.vimeo.com/video/262570817?app_id=122963&wmode=opaque\n",
      "https://player.vimeo.com/video/262755072?app_id=122963&wmode=opaque\n",
      "https://player.vimeo.com/video/262755467?app_id=122963&wmode=opaque\n",
      "https://player.vimeo.com/video/262755673?app_id=122963&wmode=opaque\n",
      "https://player.vimeo.com/video/267661918?app_id=122963&wmode=opaque\n",
      "https://player.vimeo.com/video/262572490?app_id=122963&wmode=opaque\n"
     ]
    }
   ],
   "source": [
    "for content_div in content_divs2:\n",
    "    video_block = content_div.find('div', class_='video-block')\n",
    "    video_wrapper = video_block.find('div', class_='sqs-video-wrapper')\n",
    "    data_html_raw = video_wrapper['data-html']\n",
    "    import html\n",
    "    data_html = html.unescape(data_html_raw)\n",
    "    chunk = BeautifulSoup(data_html, 'html5lib')\n",
    "    iframe = chunk.find('iframe')\n",
    "    print(iframe['src'])"
   ]
  },
  {
   "cell_type": "code",
   "execution_count": null,
   "metadata": {},
   "outputs": [],
   "source": []
  }
 ],
 "metadata": {
  "kernelspec": {
   "display_name": "Python 3",
   "language": "python",
   "name": "python3"
  },
  "language_info": {
   "codemirror_mode": {
    "name": "ipython",
    "version": 3
   },
   "file_extension": ".py",
   "mimetype": "text/x-python",
   "name": "python",
   "nbconvert_exporter": "python",
   "pygments_lexer": "ipython3",
   "version": "3.7.3"
  }
 },
 "nbformat": 4,
 "nbformat_minor": 2
}
