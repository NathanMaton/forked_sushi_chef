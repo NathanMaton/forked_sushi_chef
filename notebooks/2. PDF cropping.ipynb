{
 "cells": [
  {
   "cell_type": "code",
   "execution_count": 1,
   "metadata": {},
   "outputs": [],
   "source": [
    "from PyPDF2 import PdfFileReader, PdfFileWriter\n",
    "import copy\n",
    "\n",
    "pdf_file_path = 'chefdata/21CSGuide_English.pdf'\n",
    "\n"
   ]
  },
  {
   "cell_type": "code",
   "execution_count": 2,
   "metadata": {},
   "outputs": [],
   "source": [
    "pdfin1 = PdfFileReader(open(pdf_file_path,'rb'))  # used for left pages\n",
    "pdfin2 = PdfFileReader(open(pdf_file_path,'rb'))  # used for right pages\n",
    "num_pages = pdfin1.getNumPages()"
   ]
  },
  {
   "cell_type": "code",
   "execution_count": 3,
   "metadata": {},
   "outputs": [
    {
     "data": {
      "text/plain": [
       "71"
      ]
     },
     "execution_count": 3,
     "metadata": {},
     "output_type": "execute_result"
    }
   ],
   "source": [
    "num_pages"
   ]
  },
  {
   "cell_type": "code",
   "execution_count": null,
   "metadata": {},
   "outputs": [],
   "source": []
  },
  {
   "cell_type": "markdown",
   "metadata": {},
   "source": [
    "Relevant info\n",
    " - https://www.prepressure.com/pdf/basics/page-boxes\n",
    " - https://pythonhosted.org/PyPDF2/PageObject.html\n",
    " - https://stackoverflow.com/questions/457207/cropping-pages-of-a-pdf-file\n",
    " - https://github.com/mstamy2/PyPDF2/issues/100#issuecomment-276638674\n",
    " \n"
   ]
  },
  {
   "cell_type": "code",
   "execution_count": 4,
   "metadata": {},
   "outputs": [
    {
     "name": "stdout",
     "output_type": "stream",
     "text": [
      "1332.28 720.0\n"
     ]
    }
   ],
   "source": [
    "page = pdfin1.getPage(2)\n",
    "print(page.mediaBox.getUpperRight_x(), page.mediaBox.getUpperRight_y())"
   ]
  },
  {
   "cell_type": "code",
   "execution_count": 5,
   "metadata": {},
   "outputs": [
    {
     "data": {
      "text/plain": [
       "RectangleObject([0, 0, 1332.28, 720])"
      ]
     },
     "execution_count": 5,
     "metadata": {},
     "output_type": "execute_result"
    }
   ],
   "source": [
    "page.mediaBox"
   ]
  },
  {
   "cell_type": "code",
   "execution_count": 6,
   "metadata": {},
   "outputs": [
    {
     "data": {
      "text/plain": [
       "RectangleObject([0, 0, 1332.28, 720])"
      ]
     },
     "execution_count": 6,
     "metadata": {},
     "output_type": "execute_result"
    }
   ],
   "source": [
    "page.cropBox"
   ]
  },
  {
   "cell_type": "code",
   "execution_count": 7,
   "metadata": {},
   "outputs": [
    {
     "data": {
      "text/plain": [
       "RectangleObject([0, 0, 1332.28, 720])"
      ]
     },
     "execution_count": 7,
     "metadata": {},
     "output_type": "execute_result"
    }
   ],
   "source": [
    "page.trimBox"
   ]
  },
  {
   "cell_type": "code",
   "execution_count": 8,
   "metadata": {},
   "outputs": [],
   "source": [
    "output = PdfFileWriter()\n"
   ]
  },
  {
   "cell_type": "code",
   "execution_count": null,
   "metadata": {},
   "outputs": [],
   "source": []
  },
  {
   "cell_type": "code",
   "execution_count": 10,
   "metadata": {},
   "outputs": [],
   "source": [
    "\n",
    "def get_dimensions(pdfin1):\n",
    "    page = pdfin1.getPage(2)\n",
    "    double_page_width = page.mediaBox.getUpperRight_x()\n",
    "    page_width = double_page_width/2\n",
    "    page_height = page.mediaBox.getUpperRight_y()\n",
    "    return page_width, page_height\n",
    "\n",
    "page_width, page_height = get_dimensions(pdfin1)"
   ]
  },
  {
   "cell_type": "code",
   "execution_count": 11,
   "metadata": {},
   "outputs": [],
   "source": [
    "page_num = 2\n",
    "\n",
    "left_page = pdfin1.getPage(page_num)\n",
    "left_page.cropBox.upperRight = (page_width, page_height)\n",
    "left_page.trimBox.upperRight = (page_width, page_height)\n",
    "\n",
    "right_page = pdfin2.getPage(page_num)\n",
    "right_page.cropBox.lowerLeft = (page_width, 0)\n",
    "right_page.trimBox.lowerLeft = (page_width, 0)"
   ]
  },
  {
   "cell_type": "code",
   "execution_count": 12,
   "metadata": {},
   "outputs": [
    {
     "name": "stdout",
     "output_type": "stream",
     "text": [
      "RectangleObject([0, 0, 666.14, 720])\n",
      "RectangleObject([666.14, 0, 1332.28, 720])\n"
     ]
    }
   ],
   "source": [
    "print(left_page.cropBox)\n",
    "print(right_page.cropBox)"
   ]
  },
  {
   "cell_type": "code",
   "execution_count": 13,
   "metadata": {},
   "outputs": [],
   "source": [
    "output.addPage(left_page)\n",
    "output.addPage(right_page)"
   ]
  },
  {
   "cell_type": "code",
   "execution_count": 14,
   "metadata": {},
   "outputs": [],
   "source": [
    "with open(\"out.pdf\", \"wb\") as out_f:\n",
    "    output.write(out_f)"
   ]
  },
  {
   "cell_type": "code",
   "execution_count": null,
   "metadata": {},
   "outputs": [],
   "source": []
  },
  {
   "cell_type": "code",
   "execution_count": null,
   "metadata": {},
   "outputs": [],
   "source": []
  },
  {
   "cell_type": "code",
   "execution_count": null,
   "metadata": {},
   "outputs": [],
   "source": []
  },
  {
   "cell_type": "code",
   "execution_count": null,
   "metadata": {},
   "outputs": [],
   "source": []
  },
  {
   "cell_type": "code",
   "execution_count": null,
   "metadata": {},
   "outputs": [],
   "source": []
  }
 ],
 "metadata": {
  "kernelspec": {
   "display_name": "Python 3",
   "language": "python",
   "name": "python3"
  },
  "language_info": {
   "codemirror_mode": {
    "name": "ipython",
    "version": 3
   },
   "file_extension": ".py",
   "mimetype": "text/x-python",
   "name": "python",
   "nbconvert_exporter": "python",
   "pygments_lexer": "ipython3",
   "version": "3.6.5"
  }
 },
 "nbformat": 4,
 "nbformat_minor": 2
}
